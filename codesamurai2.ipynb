{
 "cells": [
  {
   "cell_type": "markdown",
   "metadata": {},
   "source": [
    "Part-2 (conversion of string into  numerical_values , model training and model evaluation)"
   ]
  },
  {
   "cell_type": "code",
   "execution_count": 1,
   "metadata": {},
   "outputs": [],
   "source": [
    "import pandas as pd"
   ]
  },
  {
   "cell_type": "code",
   "execution_count": 2,
   "metadata": {},
   "outputs": [],
   "source": [
    "data = pd.read_csv('final_data.csv')"
   ]
  },
  {
   "cell_type": "code",
   "execution_count": 3,
   "metadata": {},
   "outputs": [
    {
     "data": {
      "text/html": [
       "<div>\n",
       "<style scoped>\n",
       "    .dataframe tbody tr th:only-of-type {\n",
       "        vertical-align: middle;\n",
       "    }\n",
       "\n",
       "    .dataframe tbody tr th {\n",
       "        vertical-align: top;\n",
       "    }\n",
       "\n",
       "    .dataframe thead th {\n",
       "        text-align: right;\n",
       "    }\n",
       "</style>\n",
       "<table border=\"1\" class=\"dataframe\">\n",
       "  <thead>\n",
       "    <tr style=\"text-align: right;\">\n",
       "      <th></th>\n",
       "      <th>Unnamed: 0</th>\n",
       "      <th>Tweets</th>\n",
       "      <th>0</th>\n",
       "    </tr>\n",
       "  </thead>\n",
       "  <tbody>\n",
       "    <tr>\n",
       "      <th>0</th>\n",
       "      <td>0</td>\n",
       "      <td>i come border i kill</td>\n",
       "      <td>Positive</td>\n",
       "    </tr>\n",
       "    <tr>\n",
       "      <th>1</th>\n",
       "      <td>1</td>\n",
       "      <td>im get borderland kill</td>\n",
       "      <td>Positive</td>\n",
       "    </tr>\n",
       "    <tr>\n",
       "      <th>2</th>\n",
       "      <td>2</td>\n",
       "      <td>im come borderland murder</td>\n",
       "      <td>Positive</td>\n",
       "    </tr>\n",
       "    <tr>\n",
       "      <th>3</th>\n",
       "      <td>3</td>\n",
       "      <td>im get borderland 2 murder</td>\n",
       "      <td>Positive</td>\n",
       "    </tr>\n",
       "    <tr>\n",
       "      <th>4</th>\n",
       "      <td>4</td>\n",
       "      <td>im get borderland murder</td>\n",
       "      <td>Positive</td>\n",
       "    </tr>\n",
       "    <tr>\n",
       "      <th>...</th>\n",
       "      <td>...</td>\n",
       "      <td>...</td>\n",
       "      <td>...</td>\n",
       "    </tr>\n",
       "    <tr>\n",
       "      <th>72722</th>\n",
       "      <td>73716</td>\n",
       "      <td>just realiz window partit mac like 6 year behi...</td>\n",
       "      <td>Positive</td>\n",
       "    </tr>\n",
       "    <tr>\n",
       "      <th>72723</th>\n",
       "      <td>73717</td>\n",
       "      <td>just realiz mac window partit 6 year behind nv...</td>\n",
       "      <td>Positive</td>\n",
       "    </tr>\n",
       "    <tr>\n",
       "      <th>72724</th>\n",
       "      <td>73718</td>\n",
       "      <td>just realiz window partit mac 6 year behind nv...</td>\n",
       "      <td>Positive</td>\n",
       "    </tr>\n",
       "    <tr>\n",
       "      <th>72725</th>\n",
       "      <td>73719</td>\n",
       "      <td>just realiz window partit mac like 6 year behi...</td>\n",
       "      <td>Positive</td>\n",
       "    </tr>\n",
       "    <tr>\n",
       "      <th>72726</th>\n",
       "      <td>73720</td>\n",
       "      <td>just like window partit mac like 6 year behind...</td>\n",
       "      <td>Positive</td>\n",
       "    </tr>\n",
       "  </tbody>\n",
       "</table>\n",
       "<p>72727 rows × 3 columns</p>\n",
       "</div>"
      ],
      "text/plain": [
       "       Unnamed: 0                                             Tweets         0\n",
       "0               0                               i come border i kill  Positive\n",
       "1               1                             im get borderland kill  Positive\n",
       "2               2                          im come borderland murder  Positive\n",
       "3               3                         im get borderland 2 murder  Positive\n",
       "4               4                           im get borderland murder  Positive\n",
       "...           ...                                                ...       ...\n",
       "72722       73716  just realiz window partit mac like 6 year behi...  Positive\n",
       "72723       73717  just realiz mac window partit 6 year behind nv...  Positive\n",
       "72724       73718  just realiz window partit mac 6 year behind nv...  Positive\n",
       "72725       73719  just realiz window partit mac like 6 year behi...  Positive\n",
       "72726       73720  just like window partit mac like 6 year behind...  Positive\n",
       "\n",
       "[72727 rows x 3 columns]"
      ]
     },
     "execution_count": 3,
     "metadata": {},
     "output_type": "execute_result"
    }
   ],
   "source": [
    "data"
   ]
  },
  {
   "cell_type": "markdown",
   "metadata": {},
   "source": [
    "data preprocessing"
   ]
  },
  {
   "cell_type": "code",
   "execution_count": 4,
   "metadata": {},
   "outputs": [],
   "source": [
    "data= data.drop(data.columns[0],axis=1)"
   ]
  },
  {
   "cell_type": "code",
   "execution_count": 5,
   "metadata": {},
   "outputs": [],
   "source": [
    "data.rename(columns={'0':'sentiments'},inplace=True)"
   ]
  },
  {
   "cell_type": "code",
   "execution_count": 6,
   "metadata": {},
   "outputs": [
    {
     "data": {
      "text/plain": [
       "sentiments\n",
       "Negative      21999\n",
       "Positive      20286\n",
       "Neutral       17744\n",
       "Irrelevant    12698\n",
       "Name: count, dtype: int64"
      ]
     },
     "execution_count": 6,
     "metadata": {},
     "output_type": "execute_result"
    }
   ],
   "source": [
    "data['sentiments'].value_counts()"
   ]
  },
  {
   "cell_type": "code",
   "execution_count": 7,
   "metadata": {},
   "outputs": [
    {
     "data": {
      "text/plain": [
       "Tweets        0\n",
       "sentiments    0\n",
       "dtype: int64"
      ]
     },
     "execution_count": 7,
     "metadata": {},
     "output_type": "execute_result"
    }
   ],
   "source": [
    "data.isna().sum()"
   ]
  },
  {
   "cell_type": "code",
   "execution_count": 8,
   "metadata": {},
   "outputs": [],
   "source": [
    "data.dropna(inplace=True,axis=0)"
   ]
  },
  {
   "cell_type": "code",
   "execution_count": 9,
   "metadata": {},
   "outputs": [
    {
     "data": {
      "text/plain": [
       "(72727, 2)"
      ]
     },
     "execution_count": 9,
     "metadata": {},
     "output_type": "execute_result"
    }
   ],
   "source": [
    "data.shape"
   ]
  },
  {
   "cell_type": "code",
   "execution_count": 10,
   "metadata": {},
   "outputs": [],
   "source": [
    "X=data['Tweets']\n",
    "Y=data['sentiments']"
   ]
  },
  {
   "cell_type": "markdown",
   "metadata": {},
   "source": [
    "creating vectorizers"
   ]
  },
  {
   "cell_type": "code",
   "execution_count": 11,
   "metadata": {},
   "outputs": [],
   "source": [
    "from sklearn.model_selection import train_test_split\n",
    "from sklearn.feature_extraction.text import CountVectorizer, TfidfTransformer\n",
    "\n",
    "vectorizer = CountVectorizer()  \n",
    "X_counts = vectorizer.fit_transform(X)  \n",
    "\n",
    "tfidf_transformer = TfidfTransformer()\n",
    "X_tfidf = tfidf_transformer.fit_transform(X_counts) "
   ]
  },
  {
   "cell_type": "code",
   "execution_count": 12,
   "metadata": {},
   "outputs": [
    {
     "name": "stdout",
     "output_type": "stream",
     "text": [
      "  (0, 16490)\t0.49331992805185615\n",
      "  (0, 7100)\t0.44168332261717896\n",
      "  (0, 5357)\t0.7493672604996569\n",
      "  (1, 16490)\t0.5925659266269032\n",
      "  (1, 14951)\t0.4248653669990299\n",
      "  (1, 12167)\t0.41025133355170057\n",
      "  (1, 5360)\t0.5477671821537234\n",
      "  (2, 19276)\t0.6983753542273423\n",
      "  (2, 14951)\t0.34834903110868304\n",
      "  (2, 7100)\t0.43499302481634494\n",
      "  (2, 5360)\t0.449116783804171\n",
      "  (3, 19276)\t0.7265589113060767\n",
      "  (3, 14951)\t0.3624069653443998\n",
      "  (3, 12167)\t0.34994130463287315\n",
      "  (3, 5360)\t0.4672412901097615\n",
      "  (4, 19276)\t0.7265589113060767\n",
      "  (4, 14951)\t0.3624069653443998\n",
      "  (4, 12167)\t0.34994130463287315\n",
      "  (4, 5360)\t0.4672412901097615\n",
      "  (5, 31360)\t0.26491731676295543\n",
      "  (5, 30966)\t0.2583159429395332\n",
      "  (5, 26985)\t0.1940141385833085\n",
      "  (5, 26774)\t0.1496033057593737\n",
      "  (5, 26686)\t0.267985295827893\n",
      "  (5, 22255)\t0.3018285630347388\n",
      "  :\t:\n",
      "  (72725, 24093)\t0.2750116682168431\n",
      "  (72725, 21273)\t0.4130336053883051\n",
      "  (72725, 20236)\t0.1974819402518872\n",
      "  (72725, 20111)\t0.2859241909411373\n",
      "  (72725, 17785)\t0.32781459469284197\n",
      "  (72725, 17208)\t0.15046334956513505\n",
      "  (72725, 16187)\t0.21642382809720281\n",
      "  (72725, 14748)\t0.24773821416210165\n",
      "  (72725, 11631)\t0.1598914118763866\n",
      "  (72725, 10202)\t0.1979777964051375\n",
      "  (72725, 9275)\t0.2799935056843615\n",
      "  (72725, 6153)\t0.26735261116360587\n",
      "  (72725, 4487)\t0.27482465359897723\n",
      "  (72726, 32654)\t0.19168938962871482\n",
      "  (72726, 31922)\t0.28030605291596505\n",
      "  (72726, 26686)\t0.20309316459522667\n",
      "  (72726, 21273)\t0.4337956045640148\n",
      "  (72726, 20111)\t0.30029676919915677\n",
      "  (72726, 17785)\t0.3442928818249502\n",
      "  (72726, 17208)\t0.31605340988160935\n",
      "  (72726, 16187)\t0.22730282506485555\n",
      "  (72726, 14748)\t0.2601912943258567\n",
      "  (72726, 9275)\t0.2940679656275363\n",
      "  (72726, 8637)\t0.23978750241851646\n",
      "  (72726, 4487)\t0.28863929036714614\n"
     ]
    }
   ],
   "source": [
    "print(X_tfidf)"
   ]
  },
  {
   "cell_type": "markdown",
   "metadata": {},
   "source": [
    "splitting of data"
   ]
  },
  {
   "cell_type": "code",
   "execution_count": 13,
   "metadata": {},
   "outputs": [],
   "source": [
    "from sklearn.metrics import accuracy_score,f1_score,confusion_matrix,precision_score,recall_score"
   ]
  },
  {
   "cell_type": "code",
   "execution_count": 15,
   "metadata": {},
   "outputs": [],
   "source": [
    "vectorizer_data= X_tfidf\n",
    "target=Y"
   ]
  },
  {
   "cell_type": "code",
   "execution_count": 16,
   "metadata": {},
   "outputs": [],
   "source": [
    "X_train,x_test,Y_train,y_test= train_test_split(vectorizer_data,target,test_size=0.2,random_state=42)"
   ]
  },
  {
   "cell_type": "code",
   "execution_count": 22,
   "metadata": {},
   "outputs": [],
   "source": [
    "from sklearn.naive_bayes import MultinomialNB"
   ]
  },
  {
   "cell_type": "code",
   "execution_count": 67,
   "metadata": {},
   "outputs": [],
   "source": [
    "model3= MultinomialNB()\n",
    "model3.fit(X_train,Y_train)\n",
    "y_pred=model3.predict(x_test)"
   ]
  },
  {
   "cell_type": "code",
   "execution_count": 70,
   "metadata": {},
   "outputs": [
    {
     "name": "stdout",
     "output_type": "stream",
     "text": [
      "accuracy score : 0.7054860442733397\n",
      "f1 score : 0.675602232009651\n",
      "recall score : 0.665873316076803\n",
      "precision score : 0.7749518577046455\n",
      "confusion matrix : [[ 930  809  137  654]\n",
      " [  10 3925  121  314]\n",
      " [  21  856 2072  597]\n",
      " [  19  597  149 3335]]\n"
     ]
    }
   ],
   "source": [
    "print(\"accuracy score :\", accuracy_score(y_test,y_pred))\n",
    "print(\"f1 score :\", f1_score(y_test,y_pred,average=\"macro\"))\n",
    "print(\"recall score :\", recall_score(y_test,y_pred,average=\"macro\"))\n",
    "print(\"precision score :\", precision_score(y_test,y_pred,average=\"macro\"))\n",
    "print(\"confusion matrix :\", confusion_matrix(y_test,y_pred))"
   ]
  },
  {
   "cell_type": "markdown",
   "metadata": {},
   "source": [
    "improving accuracy of MutinomialNB"
   ]
  },
  {
   "cell_type": "code",
   "execution_count": 73,
   "metadata": {},
   "outputs": [],
   "source": [
    "from sklearn.model_selection import GridSearchCV\n",
    "classifier = MultinomialNB()\n",
    "param_grid = {'alpha': [0.1, 0.5, 1.0, 2.0]}\n",
    "grid_search = GridSearchCV(classifier, param_grid, cv=5, scoring='accuracy')\n",
    "grid_search.fit(X_train, Y_train)\n",
    "best_params = grid_search.best_params_\n",
    "best_nb_classifier = MultinomialNB(alpha=best_params['alpha'])\n",
    "best_nb_classifier.fit(X_train,Y_train)\n",
    "accuracy = best_nb_classifier.score(x_test, y_test)\n",
    "y_pred=best_nb_classifier.predict(x_test)"
   ]
  },
  {
   "cell_type": "code",
   "execution_count": 77,
   "metadata": {},
   "outputs": [
    {
     "name": "stdout",
     "output_type": "stream",
     "text": [
      "accuracy score : 0.7965076309638388\n",
      "f1 score : 0.79152373035553\n",
      "recall score : 0.7798452627350982\n",
      "precision score : 0.8189197312402099\n",
      "confusion matrix : [[1673  393  106  358]\n",
      " [  50 3859  143  318]\n",
      " [  78  473 2584  411]\n",
      " [  61  414  155 3470]]\n"
     ]
    }
   ],
   "source": [
    "print(\"accuracy score :\", accuracy_score(y_test,y_pred))\n",
    "print(\"f1 score :\", f1_score(y_test,y_pred,average=\"macro\"))\n",
    "print(\"recall score :\", recall_score(y_test,y_pred,average=\"macro\"))\n",
    "print(\"precision score :\", precision_score(y_test,y_pred,average=\"macro\"))\n",
    "print(\"confusion matrix :\", confusion_matrix(y_test,y_pred))"
   ]
  },
  {
   "cell_type": "code",
   "execution_count": 74,
   "metadata": {},
   "outputs": [
    {
     "name": "stdout",
     "output_type": "stream",
     "text": [
      " Tweet: i am tired\n",
      "Predicted Sentiment: Negative\n"
     ]
    }
   ],
   "source": [
    "\n",
    "tweet = \"i am tired\"\n",
    "tweet_vectorized = vectorizer.transform([tweet])\n",
    "prediction = best_nb_classifier.predict(tweet_vectorized)\n",
    "print(\" Tweet:\", tweet)\n",
    "print(\"Predicted Sentiment:\", prediction[0])"
   ]
  }
 ],
 "metadata": {
  "kernelspec": {
   "display_name": "Python 3",
   "language": "python",
   "name": "python3"
  },
  "language_info": {
   "codemirror_mode": {
    "name": "ipython",
    "version": 3
   },
   "file_extension": ".py",
   "mimetype": "text/x-python",
   "name": "python",
   "nbconvert_exporter": "python",
   "pygments_lexer": "ipython3",
   "version": "3.11.4"
  }
 },
 "nbformat": 4,
 "nbformat_minor": 2
}
